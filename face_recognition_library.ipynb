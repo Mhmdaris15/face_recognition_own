{
  "nbformat": 4,
  "nbformat_minor": 0,
  "metadata": {
    "colab": {
      "name": "face_recognition library",
      "provenance": [],
      "collapsed_sections": [],
      "authorship_tag": "ABX9TyPCHdkK7DIZgJrj3PDM5LQV",
      "include_colab_link": true
    },
    "kernelspec": {
      "name": "python3",
      "display_name": "Python 3"
    },
    "language_info": {
      "name": "python"
    },
    "accelerator": "GPU"
  },
  "cells": [
    {
      "cell_type": "markdown",
      "metadata": {
        "id": "view-in-github",
        "colab_type": "text"
      },
      "source": [
        "<a href=\"https://colab.research.google.com/github/Mhmdaris15/face_recognition_own/blob/main/face_recognition_library.ipynb\" target=\"_parent\"><img src=\"https://colab.research.google.com/assets/colab-badge.svg\" alt=\"Open In Colab\"/></a>"
      ]
    },
    {
      "cell_type": "code",
      "metadata": {
        "id": "qPLQ338rllQW"
      },
      "source": [
        "!pip install face_recognition"
      ],
      "execution_count": null,
      "outputs": []
    },
    {
      "cell_type": "code",
      "metadata": {
        "id": "n3GJ6b2SltCn"
      },
      "source": [
        "!mkdir known\n",
        "!wget http://mydiba.me/wp-content/uploads/actors/Park-Hye-su.jpg -O known/parkhyesu.jpg\n",
        "!wget https://api.duniagames.co.id/api/content/upload/file/19876251281578066786.jpg -O known/vanda.jpg\n",
        "!wget https://upload.wikimedia.org/wikipedia/commons/e/e4/Chelsea_Islan%2C_2019.jpg -O known/chelseaislan.jpg"
      ],
      "execution_count": null,
      "outputs": []
    },
    {
      "cell_type": "code",
      "metadata": {
        "id": "U8Y4o-FOouuv"
      },
      "source": [
        "!mkdir unknown\n",
        "!wget https://wallpapercave.com/wp/wp2102679.jpg -O unknown/1.jpg\n",
        "!wget https://kpoplat.com/wp-content/uploads/2020/11/park-shie.jpg -O unknown/2.jpg\n",
        "!wget https://i.pinimg.com/originals/ef/a8/47/efa847e5d45b98c2bd6d631b96671c5a.jpg -O unknown/3.jpg\n",
        "!wget https://www.celebritiesfrom.com/wp-content/uploads/2019/07/kim-so-hyun1.jpg -O unknown/4.jpg"
      ],
      "execution_count": null,
      "outputs": []
    },
    {
      "cell_type": "code",
      "metadata": {
        "id": "1dae-mXVpzxT"
      },
      "source": [
        "# Import Library needed\n",
        "import face_recognition\n",
        "import os\n",
        "import cv2\n",
        "from google.colab.patches import cv2_imshow"
      ],
      "execution_count": 4,
      "outputs": []
    },
    {
      "cell_type": "code",
      "metadata": {
        "id": "DrmZHhe5qEsW"
      },
      "source": [
        "def read_img(path):\n",
        "  img = cv2.imread(path)\n",
        "  (h,w) = img.shape[:2]\n",
        "  weight = 500\n",
        "  ratio = weight / float(w)\n",
        "  height = int(h*ratio)\n",
        "  final = cv2.resize(img, (weight, height))\n",
        "  return final"
      ],
      "execution_count": 9,
      "outputs": []
    },
    {
      "cell_type": "code",
      "metadata": {
        "id": "5wAkW4lhtJiA"
      },
      "source": [
        "import random"
      ],
      "execution_count": 18,
      "outputs": []
    },
    {
      "cell_type": "code",
      "metadata": {
        "id": "YlUomCS1rIqP"
      },
      "source": [
        "known_names = []\n",
        "known_encoding = []\n",
        "known_dir = 'known'\n",
        "\n",
        "for file in os.listdir(known_dir):\n",
        "  img = read_img(known_dir + '/' + file)\n",
        "  img_enc = face_recognition.face_encodings(img)[0]\n",
        "  known_encoding.append(img_enc)\n",
        "  known_names.append(file.split('.')[0])"
      ],
      "execution_count": 35,
      "outputs": []
    },
    {
      "cell_type": "code",
      "metadata": {
        "id": "AKYn3f6nuHd-"
      },
      "source": [
        "unknown_names = []\n",
        "unknown_encoding = []\n",
        "unknown_dir = 'unknown'\n",
        "\n",
        "for f in os.listdir(unknown_dir):\n",
        "  print('Processing', f)\n",
        "  img = read_img(unknown_dir + '/' + f)\n",
        "  img_enc = face_recognition.face_encodings(img)[0]\n",
        "\n",
        "  result = face_recognition.compare_faces(known_encoding, img_enc)\n",
        "  print(result)\n",
        "  distance = face_recognition.face_distance(known_encoding, img_enc)\n",
        "  print(distance)\n",
        "  # print(distance.min())\n",
        "  min_dist = distance[0]\n",
        "  index = 0\n",
        "  for i, dis in enumerate(distance):\n",
        "    if dis < min_dist:\n",
        "      min_dist = dis\n",
        "      index = i\n",
        "  print('Index :', index, '\\tMinimum Distance :', min_dist)\n",
        "  name = known_names[index]\n",
        "  (t, r, b, l) = face_recognition.face_locations(img)[0]\n",
        "  cv2.rectangle(img, (l,t), (r,b), (255,0,0), 1)\n",
        "  cv2.putText(img, name, (l+2,b+2),cv2.FONT_HERSHEY_PLAIN, 1, (255,255,255), 1)\n",
        "  cv2_imshow(img)\n",
        "\n",
        "  # for i in range(len(result)):\n",
        "  #   if result[i]:\n",
        "  #     name = known_names[i]\n",
        "  #     (t, r, b, l) = face_recognition.face_locations(img)[0]\n",
        "  #     cv2.rectangle(img, (l,t), (r,b), (255,0,0), 1)\n",
        "  #     cv2.putText(img, name, (l+2,b+2),cv2.FONT_HERSHEY_PLAIN, 1, (255,255,255), 1)\n",
        "  #     cv2_imshow(img)\n"
      ],
      "execution_count": null,
      "outputs": []
    },
    {
      "cell_type": "code",
      "metadata": {
        "id": "SA1LzzFQyvW_"
      },
      "source": [
        ""
      ],
      "execution_count": null,
      "outputs": []
    }
  ]
}